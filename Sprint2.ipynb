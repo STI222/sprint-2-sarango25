{
  "nbformat": 4,
  "nbformat_minor": 0,
  "metadata": {
    "colab": {
      "provenance": [],
      "collapsed_sections": []
    },
    "kernelspec": {
      "name": "python3",
      "display_name": "Python 3"
    },
    "language_info": {
      "name": "python"
    },
    "widgets": {
      "application/vnd.jupyter.widget-state+json": {
        "ba939da785754307b338dd39e0e741dd": {
          "model_module": "@jupyter-widgets/controls",
          "model_name": "DropdownModel",
          "model_module_version": "1.5.0",
          "state": {
            "_dom_classes": [],
            "_model_module": "@jupyter-widgets/controls",
            "_model_module_version": "1.5.0",
            "_model_name": "DropdownModel",
            "_options_labels": [
              "Juan",
              "Jose",
              "Pablo",
              "Antonio",
              "Daniela",
              "Sofia",
              "Valeria"
            ],
            "_view_count": null,
            "_view_module": "@jupyter-widgets/controls",
            "_view_module_version": "1.5.0",
            "_view_name": "DropdownView",
            "description": "nombre:",
            "description_tooltip": null,
            "disabled": false,
            "index": 0,
            "layout": "IPY_MODEL_0580889c59cb4b268a8eaeb52b4c759d",
            "style": "IPY_MODEL_055132069182488cb7135eb4770858d0"
          }
        },
        "0580889c59cb4b268a8eaeb52b4c759d": {
          "model_module": "@jupyter-widgets/base",
          "model_name": "LayoutModel",
          "model_module_version": "1.2.0",
          "state": {
            "_model_module": "@jupyter-widgets/base",
            "_model_module_version": "1.2.0",
            "_model_name": "LayoutModel",
            "_view_count": null,
            "_view_module": "@jupyter-widgets/base",
            "_view_module_version": "1.2.0",
            "_view_name": "LayoutView",
            "align_content": null,
            "align_items": null,
            "align_self": null,
            "border": null,
            "bottom": null,
            "display": null,
            "flex": null,
            "flex_flow": null,
            "grid_area": null,
            "grid_auto_columns": null,
            "grid_auto_flow": null,
            "grid_auto_rows": null,
            "grid_column": null,
            "grid_gap": null,
            "grid_row": null,
            "grid_template_areas": null,
            "grid_template_columns": null,
            "grid_template_rows": null,
            "height": null,
            "justify_content": null,
            "justify_items": null,
            "left": null,
            "margin": null,
            "max_height": null,
            "max_width": null,
            "min_height": null,
            "min_width": null,
            "object_fit": null,
            "object_position": null,
            "order": null,
            "overflow": null,
            "overflow_x": null,
            "overflow_y": null,
            "padding": null,
            "right": null,
            "top": null,
            "visibility": null,
            "width": null
          }
        },
        "055132069182488cb7135eb4770858d0": {
          "model_module": "@jupyter-widgets/controls",
          "model_name": "DescriptionStyleModel",
          "model_module_version": "1.5.0",
          "state": {
            "_model_module": "@jupyter-widgets/controls",
            "_model_module_version": "1.5.0",
            "_model_name": "DescriptionStyleModel",
            "_view_count": null,
            "_view_module": "@jupyter-widgets/base",
            "_view_module_version": "1.2.0",
            "_view_name": "StyleView",
            "description_width": ""
          }
        },
        "734b1b06893e4a0eb2f7b5e16ac8fb8a": {
          "model_module": "@jupyter-widgets/controls",
          "model_name": "DropdownModel",
          "model_module_version": "1.5.0",
          "state": {
            "_dom_classes": [],
            "_model_module": "@jupyter-widgets/controls",
            "_model_module_version": "1.5.0",
            "_model_name": "DropdownModel",
            "_options_labels": [
              "Juan",
              "Jose",
              "Pablo",
              "Antonio",
              "Daniela",
              "Sofia",
              "Valeria"
            ],
            "_view_count": null,
            "_view_module": "@jupyter-widgets/controls",
            "_view_module_version": "1.5.0",
            "_view_name": "DropdownView",
            "description": "nombre:",
            "description_tooltip": null,
            "disabled": false,
            "index": 3,
            "layout": "IPY_MODEL_8b01c1ac8f644213a9b96a56ccf6aa45",
            "style": "IPY_MODEL_e4ee5afc6e6844c78900af67c3fa4f44"
          }
        },
        "8b01c1ac8f644213a9b96a56ccf6aa45": {
          "model_module": "@jupyter-widgets/base",
          "model_name": "LayoutModel",
          "model_module_version": "1.2.0",
          "state": {
            "_model_module": "@jupyter-widgets/base",
            "_model_module_version": "1.2.0",
            "_model_name": "LayoutModel",
            "_view_count": null,
            "_view_module": "@jupyter-widgets/base",
            "_view_module_version": "1.2.0",
            "_view_name": "LayoutView",
            "align_content": null,
            "align_items": null,
            "align_self": null,
            "border": null,
            "bottom": null,
            "display": null,
            "flex": null,
            "flex_flow": null,
            "grid_area": null,
            "grid_auto_columns": null,
            "grid_auto_flow": null,
            "grid_auto_rows": null,
            "grid_column": null,
            "grid_gap": null,
            "grid_row": null,
            "grid_template_areas": null,
            "grid_template_columns": null,
            "grid_template_rows": null,
            "height": null,
            "justify_content": null,
            "justify_items": null,
            "left": null,
            "margin": null,
            "max_height": null,
            "max_width": null,
            "min_height": null,
            "min_width": null,
            "object_fit": null,
            "object_position": null,
            "order": null,
            "overflow": null,
            "overflow_x": null,
            "overflow_y": null,
            "padding": null,
            "right": null,
            "top": null,
            "visibility": null,
            "width": null
          }
        },
        "e4ee5afc6e6844c78900af67c3fa4f44": {
          "model_module": "@jupyter-widgets/controls",
          "model_name": "DescriptionStyleModel",
          "model_module_version": "1.5.0",
          "state": {
            "_model_module": "@jupyter-widgets/controls",
            "_model_module_version": "1.5.0",
            "_model_name": "DescriptionStyleModel",
            "_view_count": null,
            "_view_module": "@jupyter-widgets/base",
            "_view_module_version": "1.2.0",
            "_view_name": "StyleView",
            "description_width": ""
          }
        },
        "8863c2d8963c424599f26f18c8d9d58f": {
          "model_module": "@jupyter-widgets/controls",
          "model_name": "ButtonModel",
          "model_module_version": "1.5.0",
          "state": {
            "_dom_classes": [],
            "_model_module": "@jupyter-widgets/controls",
            "_model_module_version": "1.5.0",
            "_model_name": "ButtonModel",
            "_view_count": null,
            "_view_module": "@jupyter-widgets/controls",
            "_view_module_version": "1.5.0",
            "_view_name": "ButtonView",
            "button_style": "",
            "description": "Click me",
            "disabled": false,
            "icon": "check",
            "layout": "IPY_MODEL_2a9b85b0bce74a319dc0fc7469285be1",
            "style": "IPY_MODEL_2b53148c49024ba3b79e55ff1008cf9b",
            "tooltip": "Click me"
          }
        },
        "2a9b85b0bce74a319dc0fc7469285be1": {
          "model_module": "@jupyter-widgets/base",
          "model_name": "LayoutModel",
          "model_module_version": "1.2.0",
          "state": {
            "_model_module": "@jupyter-widgets/base",
            "_model_module_version": "1.2.0",
            "_model_name": "LayoutModel",
            "_view_count": null,
            "_view_module": "@jupyter-widgets/base",
            "_view_module_version": "1.2.0",
            "_view_name": "LayoutView",
            "align_content": null,
            "align_items": null,
            "align_self": null,
            "border": null,
            "bottom": null,
            "display": null,
            "flex": null,
            "flex_flow": null,
            "grid_area": null,
            "grid_auto_columns": null,
            "grid_auto_flow": null,
            "grid_auto_rows": null,
            "grid_column": null,
            "grid_gap": null,
            "grid_row": null,
            "grid_template_areas": null,
            "grid_template_columns": null,
            "grid_template_rows": null,
            "height": null,
            "justify_content": null,
            "justify_items": null,
            "left": null,
            "margin": null,
            "max_height": null,
            "max_width": null,
            "min_height": null,
            "min_width": null,
            "object_fit": null,
            "object_position": null,
            "order": null,
            "overflow": null,
            "overflow_x": null,
            "overflow_y": null,
            "padding": null,
            "right": null,
            "top": null,
            "visibility": null,
            "width": null
          }
        },
        "2b53148c49024ba3b79e55ff1008cf9b": {
          "model_module": "@jupyter-widgets/controls",
          "model_name": "ButtonStyleModel",
          "model_module_version": "1.5.0",
          "state": {
            "_model_module": "@jupyter-widgets/controls",
            "_model_module_version": "1.5.0",
            "_model_name": "ButtonStyleModel",
            "_view_count": null,
            "_view_module": "@jupyter-widgets/base",
            "_view_module_version": "1.2.0",
            "_view_name": "StyleView",
            "button_color": null,
            "font_weight": ""
          }
        },
        "87d8816a90a54d7d86d34a780acd0f9d": {
          "model_module": "@jupyter-widgets/controls",
          "model_name": "DropdownModel",
          "model_module_version": "1.5.0",
          "state": {
            "_dom_classes": [],
            "_model_module": "@jupyter-widgets/controls",
            "_model_module_version": "1.5.0",
            "_model_name": "DropdownModel",
            "_options_labels": [
              "Juan",
              "Jose",
              "Pablo",
              "Antonio",
              "Daniela",
              "Sofia",
              "Valeria"
            ],
            "_view_count": null,
            "_view_module": "@jupyter-widgets/controls",
            "_view_module_version": "1.5.0",
            "_view_name": "DropdownView",
            "description": "nombre:",
            "description_tooltip": null,
            "disabled": false,
            "index": 0,
            "layout": "IPY_MODEL_d34d0060ccc444709e46b01eefe2119e",
            "style": "IPY_MODEL_f82fe4d7127a42ddac09b64fc97d9d02"
          }
        },
        "d34d0060ccc444709e46b01eefe2119e": {
          "model_module": "@jupyter-widgets/base",
          "model_name": "LayoutModel",
          "model_module_version": "1.2.0",
          "state": {
            "_model_module": "@jupyter-widgets/base",
            "_model_module_version": "1.2.0",
            "_model_name": "LayoutModel",
            "_view_count": null,
            "_view_module": "@jupyter-widgets/base",
            "_view_module_version": "1.2.0",
            "_view_name": "LayoutView",
            "align_content": null,
            "align_items": null,
            "align_self": null,
            "border": null,
            "bottom": null,
            "display": null,
            "flex": null,
            "flex_flow": null,
            "grid_area": null,
            "grid_auto_columns": null,
            "grid_auto_flow": null,
            "grid_auto_rows": null,
            "grid_column": null,
            "grid_gap": null,
            "grid_row": null,
            "grid_template_areas": null,
            "grid_template_columns": null,
            "grid_template_rows": null,
            "height": null,
            "justify_content": null,
            "justify_items": null,
            "left": null,
            "margin": null,
            "max_height": null,
            "max_width": null,
            "min_height": null,
            "min_width": null,
            "object_fit": null,
            "object_position": null,
            "order": null,
            "overflow": null,
            "overflow_x": null,
            "overflow_y": null,
            "padding": null,
            "right": null,
            "top": null,
            "visibility": null,
            "width": null
          }
        },
        "f82fe4d7127a42ddac09b64fc97d9d02": {
          "model_module": "@jupyter-widgets/controls",
          "model_name": "DescriptionStyleModel",
          "model_module_version": "1.5.0",
          "state": {
            "_model_module": "@jupyter-widgets/controls",
            "_model_module_version": "1.5.0",
            "_model_name": "DescriptionStyleModel",
            "_view_count": null,
            "_view_module": "@jupyter-widgets/base",
            "_view_module_version": "1.2.0",
            "_view_name": "StyleView",
            "description_width": ""
          }
        },
        "3e51405639074361871d364da23c273a": {
          "model_module": "@jupyter-widgets/controls",
          "model_name": "ButtonModel",
          "model_module_version": "1.5.0",
          "state": {
            "_dom_classes": [],
            "_model_module": "@jupyter-widgets/controls",
            "_model_module_version": "1.5.0",
            "_model_name": "ButtonModel",
            "_view_count": null,
            "_view_module": "@jupyter-widgets/controls",
            "_view_module_version": "1.5.0",
            "_view_name": "ButtonView",
            "button_style": "",
            "description": "Click me",
            "disabled": false,
            "icon": "check",
            "layout": "IPY_MODEL_a14a251a449942d9a312bcfb18f6ef4e",
            "style": "IPY_MODEL_c1a07c9a97034f6688cf0188cf467fc4",
            "tooltip": "Click me"
          }
        },
        "a14a251a449942d9a312bcfb18f6ef4e": {
          "model_module": "@jupyter-widgets/base",
          "model_name": "LayoutModel",
          "model_module_version": "1.2.0",
          "state": {
            "_model_module": "@jupyter-widgets/base",
            "_model_module_version": "1.2.0",
            "_model_name": "LayoutModel",
            "_view_count": null,
            "_view_module": "@jupyter-widgets/base",
            "_view_module_version": "1.2.0",
            "_view_name": "LayoutView",
            "align_content": null,
            "align_items": null,
            "align_self": null,
            "border": null,
            "bottom": null,
            "display": null,
            "flex": null,
            "flex_flow": null,
            "grid_area": null,
            "grid_auto_columns": null,
            "grid_auto_flow": null,
            "grid_auto_rows": null,
            "grid_column": null,
            "grid_gap": null,
            "grid_row": null,
            "grid_template_areas": null,
            "grid_template_columns": null,
            "grid_template_rows": null,
            "height": null,
            "justify_content": null,
            "justify_items": null,
            "left": null,
            "margin": null,
            "max_height": null,
            "max_width": null,
            "min_height": null,
            "min_width": null,
            "object_fit": null,
            "object_position": null,
            "order": null,
            "overflow": null,
            "overflow_x": null,
            "overflow_y": null,
            "padding": null,
            "right": null,
            "top": null,
            "visibility": null,
            "width": null
          }
        },
        "c1a07c9a97034f6688cf0188cf467fc4": {
          "model_module": "@jupyter-widgets/controls",
          "model_name": "ButtonStyleModel",
          "model_module_version": "1.5.0",
          "state": {
            "_model_module": "@jupyter-widgets/controls",
            "_model_module_version": "1.5.0",
            "_model_name": "ButtonStyleModel",
            "_view_count": null,
            "_view_module": "@jupyter-widgets/base",
            "_view_module_version": "1.2.0",
            "_view_name": "StyleView",
            "button_color": null,
            "font_weight": ""
          }
        }
      }
    }
  },
  "cells": [
    {
      "cell_type": "code",
      "execution_count": 7,
      "metadata": {
        "colab": {
          "base_uri": "https://localhost:8080/"
        },
        "id": "CHxCYWWtMLSI",
        "outputId": "3066999e-0821-45b6-bfa9-5d830e855d26"
      },
      "outputs": [
        {
          "output_type": "stream",
          "name": "stdout",
          "text": [
            "    nombre  caracteristica1  caracteristica2  caracteristica3  \\\n",
            "0     Juan              0.1              0.9              0.8   \n",
            "1     Jose              0.2              0.3              0.6   \n",
            "2    Pablo              0.3              0.4              0.5   \n",
            "3  Antonio              0.5              0.2              0.8   \n",
            "4  Daniela              0.1              0.6              0.3   \n",
            "5    Sofia              0.3              0.4              0.6   \n",
            "6  Valeria              0.5              0.7              0.7   \n",
            "\n",
            "   caracteristica4  caracteristica5  \n",
            "0              0.1              0.8  \n",
            "1              0.3              0.4  \n",
            "2              0.4              0.8  \n",
            "3              0.6              0.4  \n",
            "4              0.3              0.7  \n",
            "5              0.6              0.3  \n",
            "6              0.2              0.2  \n"
          ]
        }
      ],
      "source": [
        "import pandas as pd\n",
        "import numpy as np\n",
        "import ipywidgets as widgets\n",
        "import numpy.linalg as lng\n",
        "import matplotlib.pyplot as plt\n",
        "\n",
        "database = pd.read_csv('db_sprint2.csv')\n",
        "\n",
        "print(database)\n"
      ]
    },
    {
      "cell_type": "code",
      "source": [
        "dropdownName1 = widgets.Dropdown(\n",
        "    options = database['nombre'],\n",
        "    value = database['nombre'][0],\n",
        "    description = 'nombre:',\n",
        ")\n",
        "dropdownName1"
      ],
      "metadata": {
        "colab": {
          "base_uri": "https://localhost:8080/",
          "height": 49,
          "referenced_widgets": [
            "ba939da785754307b338dd39e0e741dd",
            "0580889c59cb4b268a8eaeb52b4c759d",
            "055132069182488cb7135eb4770858d0"
          ]
        },
        "id": "Ok-OAXERWZyA",
        "outputId": "da644003-bf32-4927-f510-637fb6af8557"
      },
      "execution_count": null,
      "outputs": [
        {
          "output_type": "display_data",
          "data": {
            "text/plain": [
              "Dropdown(description='nombre:', options=('Juan', 'Jose', 'Pablo', 'Antonio', 'Daniela', 'Sofia', 'Valeria'), v…"
            ],
            "application/vnd.jupyter.widget-view+json": {
              "version_major": 2,
              "version_minor": 0,
              "model_id": "ba939da785754307b338dd39e0e741dd"
            }
          },
          "metadata": {}
        }
      ]
    },
    {
      "cell_type": "code",
      "source": [
        "dropdownName2 = widgets.Dropdown(\n",
        "    options = database['nombre'],\n",
        "    value = database['nombre'][0],\n",
        "    description = 'nombre:',\n",
        ")\n",
        "dropdownName2"
      ],
      "metadata": {
        "colab": {
          "base_uri": "https://localhost:8080/",
          "height": 49,
          "referenced_widgets": [
            "734b1b06893e4a0eb2f7b5e16ac8fb8a",
            "8b01c1ac8f644213a9b96a56ccf6aa45",
            "e4ee5afc6e6844c78900af67c3fa4f44"
          ]
        },
        "id": "gyOQPlT8XNRd",
        "outputId": "de910a55-d354-4f52-f74a-26c105da2d6c"
      },
      "execution_count": null,
      "outputs": [
        {
          "output_type": "display_data",
          "data": {
            "text/plain": [
              "Dropdown(description='nombre:', options=('Juan', 'Jose', 'Pablo', 'Antonio', 'Daniela', 'Sofia', 'Valeria'), v…"
            ],
            "application/vnd.jupyter.widget-view+json": {
              "version_major": 2,
              "version_minor": 0,
              "model_id": "734b1b06893e4a0eb2f7b5e16ac8fb8a"
            }
          },
          "metadata": {}
        }
      ]
    },
    {
      "cell_type": "code",
      "source": [
        "def cos_sim (a,b): \n",
        "\n",
        "  #Obtener valores del nombre seleccionado y convertir a un arreglo\n",
        "  name1 = database.loc[database['nombre']== a].values \n",
        "  name2 = database.loc[database['nombre']== b].values\n",
        "  \n",
        "  # Borramos el nombre\n",
        "  name1 = np.delete(name1,0) \n",
        "  name2 = np.delete(name2,0) \n",
        "\n",
        "  #Calcular la relacion de coseno entre A y B\n",
        "  cos_sim = np.dot(name1, name2)/(lng.norm(name1)*lng.norm(name2)) \n",
        "  print ('La relación coseno entre: ' + a + ' y ' + b)\n",
        "  print(cos_sim)\n",
        "\n",
        "def button_clicked(b):\n",
        "  cos_sim(dropdownName1.value, dropdownName2.value);\n",
        "\n",
        "#Crear botón\n",
        "button = widgets.Button( \n",
        "    description='Click me',\n",
        "    disabled= False,\n",
        "\n",
        "    # 'success', 'info', 'warning', 'danger' or ''\n",
        "    button_style='', \n",
        "    tooltip='Click me',\n",
        "\n",
        "    # (FontAwesome names without the `fa-` prefix)\n",
        "    icon='check' \n",
        ")\n",
        "button.on_click(button_clicked) \n",
        "button"
      ],
      "metadata": {
        "colab": {
          "base_uri": "https://localhost:8080/",
          "height": 118,
          "referenced_widgets": [
            "8863c2d8963c424599f26f18c8d9d58f",
            "2a9b85b0bce74a319dc0fc7469285be1",
            "2b53148c49024ba3b79e55ff1008cf9b"
          ]
        },
        "id": "zUWtg9n4ZGea",
        "outputId": "50cd6dd3-cf6f-4c33-ef67-6f1a6ebc84cd"
      },
      "execution_count": null,
      "outputs": [
        {
          "output_type": "display_data",
          "data": {
            "text/plain": [
              "Button(description='Click me', icon='check', style=ButtonStyle(), tooltip='Click me')"
            ],
            "application/vnd.jupyter.widget-view+json": {
              "version_major": 2,
              "version_minor": 0,
              "model_id": "8863c2d8963c424599f26f18c8d9d58f"
            }
          },
          "metadata": {}
        },
        {
          "output_type": "stream",
          "name": "stdout",
          "text": [
            "La relación coseno entre: Juan y Juan\n",
            "1.0000000000000002\n",
            "La relación coseno entre: Juan y Antonio\n",
            "0.7146358257588836\n"
          ]
        }
      ]
    },
    {
      "cell_type": "code",
      "source": [
        "dropdownName3 = widgets.Dropdown(\n",
        "    options = database['nombre'],\n",
        "    value = database['nombre'][0],\n",
        "    description = 'nombre:',\n",
        ")\n",
        "dropdownName3"
      ],
      "metadata": {
        "colab": {
          "base_uri": "https://localhost:8080/",
          "height": 49,
          "referenced_widgets": [
            "87d8816a90a54d7d86d34a780acd0f9d",
            "d34d0060ccc444709e46b01eefe2119e",
            "f82fe4d7127a42ddac09b64fc97d9d02"
          ]
        },
        "id": "IRQEyOXe6qH6",
        "outputId": "feecdb77-ec93-4ffe-9880-e2ec2105fe07"
      },
      "execution_count": 8,
      "outputs": [
        {
          "output_type": "display_data",
          "data": {
            "text/plain": [
              "Dropdown(description='nombre:', options=('Juan', 'Jose', 'Pablo', 'Antonio', 'Daniela', 'Sofia', 'Valeria'), v…"
            ],
            "application/vnd.jupyter.widget-view+json": {
              "version_major": 2,
              "version_minor": 0,
              "model_id": "87d8816a90a54d7d86d34a780acd0f9d"
            }
          },
          "metadata": {}
        }
      ]
    },
    {
      "cell_type": "code",
      "source": [
        "def cos_sim_all (a): \n",
        "  name1 = database.loc[database['nombre']== a].values #Obtener valores del nombre seleccionado y convertir a un arreglo\n",
        "  name1 = np.delete(name1,0) # Borramos el nombre\n",
        "  all_names = np.empty(0)\n",
        "  for i in range(len(database['nombre'])):\n",
        "    name2 = (database.loc[i].values)\n",
        "    name2 = np.delete(name2,0) # Borramos el nombre\n",
        "    cos_sim = np.dot(name1, name2)/(lng.norm(name1)*lng.norm(name2)) #Calcular la relacion de coseno entre A y B\n",
        "    all_names = np.insert(all_names, len(all_names), [cos_sim])\n",
        "  #print ('La relación coseno entre: ' + a + ' y ' + b)\n",
        "\n",
        "  #Grafico\n",
        "  fig,ax = plt.subplots()\n",
        "  fig.set_figheight(20)\n",
        "  fig.set_figwidth(20)\n",
        "  ax.scatter(all_names, all_names)\n",
        "\n",
        "  for i, name in enumerate(database['nombre']):\n",
        "    print(i)\n",
        "    ax.annotate (name, (all_names[i], all_names[i]))\n",
        "\n",
        "def button_clicked2(b):\n",
        "  cos_sim_all(dropdownName3.value);\n",
        "\n",
        "button2 = widgets.Button( #Crear botón\n",
        "    description='Click me',\n",
        "    disabled= False,\n",
        "    button_style='', # 'success', 'info', 'warning', 'danger' or ''\n",
        "    tooltip='Click me',\n",
        "    icon='check' # (FontAwesome names without the `fa-` prefix)\n",
        ")\n",
        "button2.on_click(button_clicked2)\n",
        "button2"
      ],
      "metadata": {
        "colab": {
          "base_uri": "https://localhost:8080/",
          "height": 1000,
          "referenced_widgets": [
            "3e51405639074361871d364da23c273a",
            "a14a251a449942d9a312bcfb18f6ef4e",
            "c1a07c9a97034f6688cf0188cf467fc4"
          ]
        },
        "id": "OO90y_jt4iVx",
        "outputId": "59d15743-a0d5-4c7a-8588-7d463d80be11"
      },
      "execution_count": 10,
      "outputs": [
        {
          "output_type": "display_data",
          "data": {
            "text/plain": [
              "Button(description='Click me', icon='check', style=ButtonStyle(), tooltip='Click me')"
            ],
            "application/vnd.jupyter.widget-view+json": {
              "version_major": 2,
              "version_minor": 0,
              "model_id": "3e51405639074361871d364da23c273a"
            }
          },
          "metadata": {}
        },
        {
          "output_type": "stream",
          "name": "stdout",
          "text": [
            "0\n",
            "1\n",
            "2\n",
            "3\n",
            "4\n",
            "5\n",
            "6\n"
          ]
        },
        {
          "output_type": "display_data",
          "data": {
            "text/plain": [
              "<Figure size 1440x1440 with 1 Axes>"
            ],
            "image/png": "[encoded data removed]"
          },
          "metadata": {
            "needs_background": "light"
          }
        }
      ]
    }
  ]
}